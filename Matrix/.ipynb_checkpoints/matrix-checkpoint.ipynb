{
 "cells": [
  {
   "cell_type": "code",
   "execution_count": 2,
   "metadata": {},
   "outputs": [],
   "source": [
    "import tensorflow as tf\n",
    "import numpy as np"
   ]
  },
  {
   "cell_type": "code",
   "execution_count": 4,
   "metadata": {},
   "outputs": [
    {
     "name": "stdout",
     "output_type": "stream",
     "text": [
      "tf.Tensor([ 0  1  2  3  4  5  6  7  8  9 10 11 12 13 14 15 16 17 18 19 20 21 22 23], shape=(24,), dtype=int32)\n",
      "tf.Tensor(\n",
      "[[ 0  1  2  3]\n",
      " [ 4  5  6  7]\n",
      " [ 8  9 10 11]\n",
      " [12 13 14 15]\n",
      " [16 17 18 19]\n",
      " [20 21 22 23]], shape=(6, 4), dtype=int32)\n",
      "tf.Tensor(\n",
      "[[[ 0  1  2  3]\n",
      "  [ 4  5  6  7]\n",
      "  [ 8  9 10 11]]\n",
      "\n",
      " [[12 13 14 15]\n",
      "  [16 17 18 19]\n",
      "  [20 21 22 23]]], shape=(2, 3, 4), dtype=int32)\n"
     ]
    }
   ],
   "source": [
    "one_d_tensor = tf.constant(np.arange(24))\n",
    "two_d_tensor = tf.constant(np.arange(24), shape=(6, 4))\n",
    "three_d_tensor = tf.constant(np.arange(24), shape=(2, 3, 4))\n",
    "print(one_d_tensor)\n",
    "print(two_d_tensor)\n",
    "print(three_d_tensor)"
   ]
  },
  {
   "cell_type": "code",
   "execution_count": 11,
   "metadata": {},
   "outputs": [
    {
     "name": "stdout",
     "output_type": "stream",
     "text": [
      "tf.Tensor(13, shape=(), dtype=int32)\n",
      "tf.Tensor(3, shape=(), dtype=int32)\n",
      "tf.Tensor(40, shape=(), dtype=int32)\n",
      "tf.Tensor(1.6, shape=(), dtype=float64)\n",
      "tf.Tensor(32768, shape=(), dtype=int32)\n"
     ]
    }
   ],
   "source": [
    "x = tf.constant(8)\n",
    "y = tf.constant(5)\n",
    "tf_add = tf.add(x, y)\n",
    "print(tf_add)\n",
    "tf_subtract = tf.subtract(x, y)\n",
    "print(tf_subtract)\n",
    "tf_multiply = tf.multiply(x, y)\n",
    "print(tf_multiply)\n",
    "tf_divide = tf.divide(x, y)\n",
    "print(tf_divide)\n",
    "tf_pow = tf.pow(x, y)\n",
    "print(tf_pow)"
   ]
  },
  {
   "cell_type": "code",
   "execution_count": 13,
   "metadata": {},
   "outputs": [
    {
     "name": "stdout",
     "output_type": "stream",
     "text": [
      "tf.Tensor(\n",
      "[[0 1 2]\n",
      " [3 4 5]], shape=(2, 3), dtype=int32)\n",
      "tf.Tensor(\n",
      "[[0 1]\n",
      " [2 3]\n",
      " [4 5]], shape=(3, 2), dtype=int32)\n"
     ]
    },
    {
     "data": {
      "text/plain": [
       "<tf.Tensor: shape=(2, 2), dtype=int32, numpy=\n",
       "array([[10, 13],\n",
       "       [28, 40]])>"
      ]
     },
     "execution_count": 13,
     "metadata": {},
     "output_type": "execute_result"
    }
   ],
   "source": [
    "a = tf.constant(np.arange(6),shape=(2,3))\n",
    "b = tf.constant(np.arange(6),shape=(3,2))\n",
    "print(a)\n",
    "print(b)\n",
    "tf.matmul(a,b)"
   ]
  },
  {
   "cell_type": "markdown",
   "metadata": {},
   "source": [
    "# norm\n",
    "https://zh.wikipedia.org/zh-tw/%E8%8C%83%E6%95%B0"
   ]
  },
  {
   "cell_type": "code",
   "execution_count": 15,
   "metadata": {},
   "outputs": [
    {
     "name": "stdout",
     "output_type": "stream",
     "text": [
      "tf.Tensor(6.0, shape=(), dtype=float32)\n",
      "tf.Tensor(3.1622777, shape=(), dtype=float32)\n",
      "tf.Tensor(3.1622777, shape=(), dtype=float32)\n"
     ]
    }
   ],
   "source": [
    "a = tf.constant([[1.,2.],[1.,2.]])\n",
    "print(tf.norm(a, ord='euclidean') )\n",
    "print(tf.sqrt(tf.reduce_sum(tf.square(a))))"
   ]
  },
  {
   "cell_type": "code",
   "execution_count": null,
   "metadata": {},
   "outputs": [],
   "source": []
  }
 ],
 "metadata": {
  "kernelspec": {
   "display_name": "Python 3",
   "language": "python",
   "name": "python3"
  },
  "language_info": {
   "codemirror_mode": {
    "name": "ipython",
    "version": 3
   },
   "file_extension": ".py",
   "mimetype": "text/x-python",
   "name": "python",
   "nbconvert_exporter": "python",
   "pygments_lexer": "ipython3",
   "version": "3.7.6"
  }
 },
 "nbformat": 4,
 "nbformat_minor": 4
}

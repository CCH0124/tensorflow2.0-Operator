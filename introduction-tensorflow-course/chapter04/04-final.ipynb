{
 "metadata": {
  "language_info": {
   "codemirror_mode": {
    "name": "ipython",
    "version": 3
   },
   "file_extension": ".py",
   "mimetype": "text/x-python",
   "name": "python",
   "nbconvert_exporter": "python",
   "pygments_lexer": "ipython3",
   "version": 3
  },
  "orig_nbformat": 2
 },
 "nbformat": 4,
 "nbformat_minor": 2,
 "cells": [
  {
   "source": [
    "1. Using Image Generator, how do you label images? ans：It’s based on the directory the image is contained in\n",
    "2. What method on the Image Generator is used to normalize the image? ans： rescale\n",
    "3. How did we specify the training size for the images? ans： target_size parameter on the training generator\n",
    "4. When we specify the input_shape to be (300, 300, 3), what does that mean? ans：Every Image will be 300x300 pixels, with 3 bytes to define color\n",
    "5. If your training data is close to 1.000 accuracy, but your validation data isn’t, what’s the risk here? ans：You’re overfitting on your training data\n",
    "6. Convolutional Neural Networks are better for classifying images like horses and humans because: ans：\n",
    "- In these images, the features may be in different parts of the frame\n",
    "- There’s a wide variety of horses\n",
    "- There’s a wide variety of humans\n",
    "7. After reducing the size of the images, the training results were different. Why? ans：We removed some convolutions to handle the smaller images"
   ],
   "cell_type": "markdown",
   "metadata": {}
  }
 ]
}
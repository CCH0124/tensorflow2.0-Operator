{
 "metadata": {
  "language_info": {
   "codemirror_mode": {
    "name": "ipython",
    "version": 3
   },
   "file_extension": ".py",
   "mimetype": "text/x-python",
   "name": "python",
   "nbconvert_exporter": "python",
   "pygments_lexer": "ipython3",
   "version": "3.7.7-final"
  },
  "orig_nbformat": 2,
  "kernelspec": {
   "name": "python_defaultSpec_1600519741170",
   "display_name": "Python 3.7.7 64-bit ('tf': conda)"
  }
 },
 "nbformat": 4,
 "nbformat_minor": 2,
 "cells": [
  {
   "cell_type": "code",
   "execution_count": 1,
   "metadata": {},
   "outputs": [],
   "source": [
    "import tensorflow as tf"
   ]
  },
  {
   "cell_type": "code",
   "execution_count": 2,
   "metadata": {},
   "outputs": [],
   "source": [
    "fashion_mnist = tf.keras.datasets.fashion_mnist\n",
    "(training_images, training_labels), (test_images, test_labels) = fashion_mnist.load_data()"
   ]
  },
  {
   "source": [
    "**normalizing** 減少計算"
   ],
   "cell_type": "markdown",
   "metadata": {}
  },
  {
   "cell_type": "code",
   "execution_count": 3,
   "metadata": {},
   "outputs": [],
   "source": [
    "training_images  = training_images / 255.0\n",
    "test_images = test_images / 255.0\n",
    "training_images_reshape = tf.reshape(training_images,(-1,(28*28)))\n",
    "test_images_reshape = tf.reshape(test_images,(-1,(28*28)))"
   ]
  },
  {
   "source": [
    "- relu：表示如果 `X>0` 返回 `X`，否則返回 `0`。它做的只是將值 `0` 或更大的值傳遞給網路中的下一層\n",
    "- softmax：使用一組值並選擇最大的值。例如，如果最後一層的輸出看起來像[0.1、0.1、0.05、0.1、9.5、0.1、0.05、0.05、0.05]，然後將其變成 [0,0,0,0,1,0,0,0,0,0]"
   ],
   "cell_type": "markdown",
   "metadata": {}
  },
  {
   "cell_type": "code",
   "execution_count": 4,
   "metadata": {},
   "outputs": [],
   "source": [
    "from tensorflow.keras.layers import Input\n",
    "from tensorflow.keras.layers import Flatten, Dense\n",
    "from tensorflow.keras.models import Model\n",
    "visible = Input(shape=(28*28,))\n",
    "input_flatten = Flatten()(visible) # 變成一維\n",
    "hidden = Dense(128, activation=tf.nn.relu)(input_flatten) # 第一層神經元\n",
    "output = Dense(10, activation=tf.nn.softmax)(hidden)\n",
    "model = Model(inputs=visible, outputs=output)"
   ]
  },
  {
   "source": [
    "使用 `fit`  進行訓練，並使用 `optimizer`、`sparse_categorical_crossentropy`，要求將訓練數據擬合訓練標籤，也就是找出兩者之間的關係。"
   ],
   "cell_type": "markdown",
   "metadata": {}
  },
  {
   "cell_type": "code",
   "execution_count": 5,
   "metadata": {
    "tags": []
   },
   "outputs": [
    {
     "output_type": "stream",
     "name": "stdout",
     "text": "Epoch 1/5\n1875/1875 [==============================] - 11s 6ms/step - loss: 0.4970 - accuracy: 0.8246\nEpoch 2/5\n1875/1875 [==============================] - 12s 7ms/step - loss: 0.3749 - accuracy: 0.8651\nEpoch 3/5\n1875/1875 [==============================] - 11s 6ms/step - loss: 0.3368 - accuracy: 0.8771\nEpoch 4/5\n1875/1875 [==============================] - 9s 5ms/step - loss: 0.3133 - accuracy: 0.8856\nEpoch 5/5\n1875/1875 [==============================] - 10s 5ms/step - loss: 0.2940 - accuracy: 0.8908\n"
    },
    {
     "output_type": "execute_result",
     "data": {
      "text/plain": "<tensorflow.python.keras.callbacks.History at 0x21aa7bdc708>"
     },
     "metadata": {},
     "execution_count": 5
    }
   ],
   "source": [
    "model.compile(optimizer = tf.optimizers.Adam(),\n",
    "              loss = 'sparse_categorical_crossentropy',\n",
    "              metrics=['accuracy'])\n",
    "\n",
    "model.fit(training_images_reshape, training_labels, epochs=5)"
   ]
  },
  {
   "source": [
    "使用 `evaluate`，傳入兩個測試集合，它將報告每個集合的損失"
   ],
   "cell_type": "markdown",
   "metadata": {}
  },
  {
   "cell_type": "code",
   "execution_count": 6,
   "metadata": {
    "tags": []
   },
   "outputs": [
    {
     "output_type": "stream",
     "name": "stdout",
     "text": "313/313 [==============================] - 2s 6ms/step - loss: 0.3486 - accuracy: 0.8746\n"
    },
    {
     "output_type": "execute_result",
     "data": {
      "text/plain": "[0.3486064672470093, 0.8745999932289124]"
     },
     "metadata": {},
     "execution_count": 6
    }
   ],
   "source": [
    "model.evaluate(test_images_reshape, test_labels)"
   ]
  },
  {
   "source": [
    "預測"
   ],
   "cell_type": "markdown",
   "metadata": {}
  },
  {
   "cell_type": "code",
   "execution_count": 8,
   "metadata": {
    "tags": []
   },
   "outputs": [
    {
     "output_type": "stream",
     "name": "stdout",
     "text": "[2.0264633e-04 7.7815326e-07 1.9432980e-06 6.2583613e-06 3.4533386e-06\n 3.5365331e-03 2.4808678e-04 9.4126172e-02 4.6077203e-05 9.0182799e-01]\n"
    }
   ],
   "source": [
    "classifications = model.predict(test_images_reshape)\n",
    "print(classifications[0]) # 9 的機率是最大的，輸出的數值是 It's the probability that this item is each of the 10 classes"
   ]
  },
  {
   "cell_type": "code",
   "execution_count": 9,
   "metadata": {
    "tags": []
   },
   "outputs": [
    {
     "output_type": "stream",
     "name": "stdout",
     "text": "9\n"
    }
   ],
   "source": [
    "print(test_labels[0]) # 確實是 9"
   ]
  },
  {
   "cell_type": "code",
   "execution_count": null,
   "metadata": {},
   "outputs": [],
   "source": []
  }
 ]
}
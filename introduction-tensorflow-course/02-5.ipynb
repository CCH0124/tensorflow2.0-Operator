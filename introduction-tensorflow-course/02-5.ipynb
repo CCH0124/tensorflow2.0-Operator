{
 "metadata": {
  "language_info": {
   "codemirror_mode": {
    "name": "ipython",
    "version": 3
   },
   "file_extension": ".py",
   "mimetype": "text/x-python",
   "name": "python",
   "nbconvert_exporter": "python",
   "pygments_lexer": "ipython3",
   "version": "3.7.7-final"
  },
  "orig_nbformat": 2,
  "kernelspec": {
   "name": "python_defaultSpec_1600572671793",
   "display_name": "Python 3.7.7 64-bit ('tf': conda)"
  }
 },
 "nbformat": 4,
 "nbformat_minor": 2,
 "cells": [
  {
   "cell_type": "code",
   "execution_count": 1,
   "metadata": {},
   "outputs": [],
   "source": [
    "import tensorflow as tf\n",
    "import sys\n",
    "sys.path.append('./')\n",
    "from utils.StopTrain import MyStopTrainCallBack"
   ]
  },
  {
   "cell_type": "code",
   "execution_count": 2,
   "metadata": {},
   "outputs": [],
   "source": [
    "fashion_mnist = tf.keras.datasets.fashion_mnist\n",
    "(training_images, training_labels), (test_images, test_labels) = fashion_mnist.load_data()"
   ]
  },
  {
   "cell_type": "code",
   "execution_count": 3,
   "metadata": {},
   "outputs": [],
   "source": [
    "training_images  = training_images / 255.0\n",
    "test_images = test_images / 255.0\n",
    "training_images_reshape = tf.reshape(training_images,(-1,(28*28)))\n",
    "test_images_reshape = tf.reshape(test_images,(-1,(28*28)))"
   ]
  },
  {
   "cell_type": "code",
   "execution_count": 4,
   "metadata": {
    "tags": []
   },
   "outputs": [
    {
     "output_type": "stream",
     "name": "stdout",
     "text": "Epoch 1/5\n1875/1875 [==============================] - 3s 2ms/step - loss: 0.4930 - accuracy: 0.8268\nEpoch 2/5\n1875/1875 [==============================] - 3s 2ms/step - loss: 0.3779 - accuracy: 0.8632\nEpoch 3/5\n1875/1875 [==============================] - 4s 2ms/step - loss: 0.3375 - accuracy: 0.8759\nEpoch 4/5\n1875/1875 [==============================] - 3s 2ms/step - loss: 0.3148 - accuracy: 0.8836\nEpoch 5/5\n1867/1875 [============================>.] - ETA: 0s - loss: 0.2966 - accuracy: 0.8913\nLoss is low so cancelling training!!\n1875/1875 [==============================] - 3s 2ms/step - loss: 0.2967 - accuracy: 0.8912\n313/313 [==============================] - 1s 2ms/step - loss: 0.3717 - accuracy: 0.8631\n[3.6745103e-06 4.5715975e-08 2.7004097e-07 3.9053737e-07 3.8950461e-06\n 1.8382929e-03 4.4962644e-06 1.0029871e-01 1.7365005e-06 8.9784855e-01]\n9\n"
    }
   ],
   "source": [
    "from tensorflow.keras.layers import Input\n",
    "from tensorflow.keras.layers import Flatten, Dense\n",
    "from tensorflow.keras.models import Model\n",
    "\n",
    "callbacks = MyStopTrainCallBack()\n",
    "\n",
    "visible = Input(shape=(28*28,))\n",
    "input_flatten = Flatten()(visible) # 變成一維\n",
    "hidden = Dense(128, activation=tf.nn.relu)(input_flatten) # 第一層神經元\n",
    "output = Dense(10, activation=tf.nn.softmax)(hidden)\n",
    "model = Model(inputs=visible, outputs=output)\n",
    "\n",
    "model.compile(optimizer = tf.optimizers.Adam(),\n",
    "              loss = 'sparse_categorical_crossentropy',\n",
    "              metrics=['accuracy'])\n",
    "\n",
    "model.fit(training_images_reshape, training_labels, epochs=5, callbacks=[callbacks])\n",
    "model.evaluate(test_images_reshape, test_labels)\n",
    "classifications = model.predict(test_images_reshape)\n",
    "print(classifications[0])\n",
    "print(test_labels[0])"
   ]
  },
  {
   "source": [
    "這邊定義一個 `MyStopTrainCallBack`，可以用來就是說覺得 `loss` 在某一個值時就有很高的預測能力，因此可以透過 `callbacks` 去定義說訓練期間在哪個值就可以了，而不必要浪費時間繼續訓練。"
   ],
   "cell_type": "markdown",
   "metadata": {}
  }
 ]
}
{
 "metadata": {
  "language_info": {
   "codemirror_mode": {
    "name": "ipython",
    "version": 3
   },
   "file_extension": ".py",
   "mimetype": "text/x-python",
   "name": "python",
   "nbconvert_exporter": "python",
   "pygments_lexer": "ipython3",
   "version": "3.7.7-final"
  },
  "orig_nbformat": 2,
  "kernelspec": {
   "name": "python_defaultSpec_1600530745125",
   "display_name": "Python 3.7.7 64-bit ('tf': conda)"
  }
 },
 "nbformat": 4,
 "nbformat_minor": 2,
 "cells": [
  {
   "source": [
    "探討神經元增加到 `1024` 的效果"
   ],
   "cell_type": "markdown",
   "metadata": {}
  },
  {
   "cell_type": "code",
   "execution_count": 1,
   "metadata": {},
   "outputs": [],
   "source": [
    "import tensorflow as tf"
   ]
  },
  {
   "cell_type": "code",
   "execution_count": 2,
   "metadata": {},
   "outputs": [],
   "source": [
    "fashion_mnist = tf.keras.datasets.fashion_mnist\n",
    "(training_images, training_labels), (test_images, test_labels) = fashion_mnist.load_data()"
   ]
  },
  {
   "source": [
    "**normalizing** 減少計算"
   ],
   "cell_type": "markdown",
   "metadata": {}
  },
  {
   "cell_type": "code",
   "execution_count": 3,
   "metadata": {},
   "outputs": [],
   "source": [
    "training_images  = training_images / 255.0\n",
    "test_images = test_images / 255.0\n",
    "training_images_reshape = tf.reshape(training_images,(-1,(28*28)))\n",
    "test_images_reshape = tf.reshape(test_images,(-1,(28*28)))"
   ]
  },
  {
   "source": [
    "- relu：表示如果 `X>0` 返回 `X`，否則返回 `0`。它做的只是將值 `0` 或更大的值傳遞給網路中的下一層\n",
    "- softmax：使用一組值並選擇最大的值。例如，如果最後一層的輸出看起來像[0.1、0.1、0.05、0.1、9.5、0.1、0.05、0.05、0.05]，然後將其變成 [0,0,0,0,1,0,0,0,0,0]"
   ],
   "cell_type": "markdown",
   "metadata": {}
  },
  {
   "cell_type": "code",
   "execution_count": 9,
   "metadata": {},
   "outputs": [],
   "source": [
    "from tensorflow.keras.layers import Input\n",
    "from tensorflow.keras.layers import Flatten, Dense\n",
    "from tensorflow.keras.models import Model\n",
    "visible = Input(shape=(28*28,))\n",
    "input_flatten = Flatten()(visible) # 變成一維\n",
    "hidden = Dense(1024, activation=tf.nn.relu)(input_flatten) # 128 變 1024\n",
    "output = Dense(10, activation=tf.nn.softmax)(hidden)\n",
    "model = Model(inputs=visible, outputs=output)"
   ]
  },
  {
   "source": [
    "使用 `fit`  進行訓練，並使用 `optimizer`、`sparse_categorical_crossentropy`，要求將訓練數據擬合訓練標籤，也就是找出兩者之間的關係。"
   ],
   "cell_type": "markdown",
   "metadata": {}
  },
  {
   "cell_type": "code",
   "execution_count": 10,
   "metadata": {
    "tags": []
   },
   "outputs": [
    {
     "output_type": "stream",
     "name": "stdout",
     "text": "Epoch 1/5\n1873/1875 [============================>.] - ETA: 0s - loss: 0.4675 - accuracy: 0.831875/1875 [==============================] - 14s 7ms/step - loss: 0.4674 - accuracy: 0.8336\nEpoch 2/5\n1875/1875 [==============================] - 15s 8ms/step - loss: 0.3597 - accuracy: 0.8686\nEpoch 3/5\n1875/1875 [==============================] - 13s 7ms/step - loss: 0.3195 - accuracy: 0.8840\nEpoch 4/5\n1875/1875 [==============================] - 14s 8ms/step - loss: 0.2957 - accuracy: 0.8895\nEpoch 5/5\n1875/1875 [==============================] - 15s 8ms/step - loss: 0.2777 - accuracy: 0.8970\n"
    },
    {
     "output_type": "execute_result",
     "data": {
      "text/plain": "<tensorflow.python.keras.callbacks.History at 0x1d295b0b148>"
     },
     "metadata": {},
     "execution_count": 10
    }
   ],
   "source": [
    "model.compile(optimizer = tf.optimizers.Adam(),\n",
    "              loss = 'sparse_categorical_crossentropy',\n",
    "              metrics=['accuracy'])\n",
    "\n",
    "model.fit(training_images_reshape, training_labels, epochs=5)"
   ]
  },
  {
   "source": [
    "使用 `evaluate`，傳入兩個測試集合，它將報告每個集合的損失"
   ],
   "cell_type": "markdown",
   "metadata": {}
  },
  {
   "cell_type": "code",
   "execution_count": 11,
   "metadata": {
    "tags": []
   },
   "outputs": [
    {
     "output_type": "stream",
     "name": "stdout",
     "text": "313/313 [==============================] - 2s 6ms/step - loss: 0.3330 - accuracy: 0.8802\n"
    },
    {
     "output_type": "execute_result",
     "data": {
      "text/plain": "[0.33301299810409546, 0.8802000284194946]"
     },
     "metadata": {},
     "execution_count": 11
    }
   ],
   "source": [
    "model.evaluate(test_images_reshape, test_labels)"
   ]
  },
  {
   "source": [
    "預測"
   ],
   "cell_type": "markdown",
   "metadata": {}
  },
  {
   "cell_type": "code",
   "execution_count": 12,
   "metadata": {
    "tags": []
   },
   "outputs": [
    {
     "output_type": "stream",
     "name": "stdout",
     "text": "[4.7693829e-06 1.1688599e-08 1.9159824e-08 5.7459876e-10 9.1895656e-09\n 4.4642411e-02 1.4031658e-06 3.0229826e-02 2.4175774e-06 9.2511910e-01]\n"
    }
   ],
   "source": [
    "classifications = model.predict(test_images_reshape)\n",
    "print(classifications[0]) # 9 的機率是最大的，輸出的數值是 It's the probability that this item is each of the 10 classes"
   ]
  },
  {
   "cell_type": "code",
   "execution_count": 13,
   "metadata": {
    "tags": []
   },
   "outputs": [
    {
     "output_type": "stream",
     "name": "stdout",
     "text": "9\n"
    }
   ],
   "source": [
    "print(test_labels[0]) # 確實是 9"
   ]
  },
  {
   "source": [
    "訓練時間相對拉長，但準確率有提升，`loss` 有在更低。"
   ],
   "cell_type": "markdown",
   "metadata": {}
  }
 ]
}
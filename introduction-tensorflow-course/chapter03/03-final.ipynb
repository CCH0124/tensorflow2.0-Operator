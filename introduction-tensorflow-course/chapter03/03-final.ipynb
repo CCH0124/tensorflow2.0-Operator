{
 "metadata": {
  "language_info": {
   "codemirror_mode": {
    "name": "ipython",
    "version": 3
   },
   "file_extension": ".py",
   "mimetype": "text/x-python",
   "name": "python",
   "nbconvert_exporter": "python",
   "pygments_lexer": "ipython3",
   "version": 3
  },
  "orig_nbformat": 2
 },
 "nbformat": 4,
 "nbformat_minor": 2,
 "cells": [
  {
   "source": [
    "- What is a Convolution? ans：A technique to isolate features in images\n",
    "- What is a Pooling? ans：A technique to reduce the information in an image while maintaining features\n",
    "- How do Convolutions improve image recognition? ans：They isolate features in images\n",
    "- After passing a 3x3 filter over a 28x28 image, how big will the output be? ans：26*26\n",
    "- After max pooling a 26x26 image with a 2x2 filter, how big will the output be? ans：13*13\n",
    "- Applying Convolutions on top of our Deep neural network will make training: ans：It depends on many factors. It might make your training faster or slower, and a poorly designed Convolutional layer may even be less efficient than a plain DNN!"
   ],
   "cell_type": "markdown",
   "metadata": {}
  }
 ]
}
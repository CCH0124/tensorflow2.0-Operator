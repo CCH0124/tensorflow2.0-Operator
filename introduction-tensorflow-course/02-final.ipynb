{
 "metadata": {
  "language_info": {
   "codemirror_mode": {
    "name": "ipython",
    "version": 3
   },
   "file_extension": ".py",
   "mimetype": "text/x-python",
   "name": "python",
   "nbconvert_exporter": "python",
   "pygments_lexer": "ipython3",
   "version": 3
  },
  "orig_nbformat": 2
 },
 "nbformat": 4,
 "nbformat_minor": 2,
 "cells": [
  {
   "source": [
    "1. What’s the name of the dataset of Fashion images used in this week’s code? ans：Fashion mnist\n",
    "2. What do the above mentioned Images look like?　ans：28*28 灰階\n",
    "3. How many images are in the Fashion MNIST dataset?　ans：70000\n",
    "4. Why are there 10 output neurons?　ans：There are 10 different labels\n",
    "5. What does Relu do?　ans：it only returns x if x is greater than zero\n",
    "6. Why do you split data into training and test sets?　ans：To test network with previously unseen data\n",
    "7. What method gets called when an epoch finishes?　ans：on_epoch_end\n",
    "8. What parameter to you set in your fit function to tell it to use callbacks? ans：callbacks="
   ],
   "cell_type": "markdown",
   "metadata": {}
  }
 ]
}
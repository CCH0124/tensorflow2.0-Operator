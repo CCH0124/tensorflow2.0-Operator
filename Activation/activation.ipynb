{
 "cells": [
  {
   "cell_type": "code",
   "execution_count": 1,
   "metadata": {},
   "outputs": [],
   "source": [
    "import numpy as np"
   ]
  },
  {
   "cell_type": "markdown",
   "metadata": {},
   "source": [
    "# Softmax"
   ]
  },
  {
   "cell_type": "markdown",
   "metadata": {},
   "source": [
    "![](https://wikimedia.org/api/rest_v1/media/math/render/svg/001ce4c2c74e78a66a4d7d04ab92cbd0d0fdec02)"
   ]
  },
  {
   "cell_type": "code",
   "execution_count": 9,
   "metadata": {},
   "outputs": [],
   "source": [
    "import math\n",
    "import numpy as np\n",
    "def softmax(z):\n",
    "    z_x = [math.exp(i) for i in z]\n",
    "    sum_z_x = sum(z_x)\n",
    "    return [i / sum_z_x for i in z_x]\n",
    "def np_softmax(x):\n",
    "    \"\"\"Compute softmax values for each sets of scores in x.\"\"\"\n",
    "    return np.exp(x) / np.sum(np.exp(x), axis=0) "
   ]
  },
  {
   "cell_type": "code",
   "execution_count": 15,
   "metadata": {},
   "outputs": [
    {
     "name": "stdout",
     "output_type": "stream",
     "text": [
      "[0.01638411879964008, 0.04453665240837586, 0.04453665240837586, 0.8945425763836081]\n",
      "[0.01638412 0.04453665 0.04453665 0.89454258]\n",
      "tf.Tensor([0.01638412 0.04453665 0.04453665 0.8945426 ], shape=(4,), dtype=float32)\n",
      "0.9999999999999999\n"
     ]
    }
   ],
   "source": [
    "import tensorflow as tf\n",
    "n = [1.0, 2.0, 2.0, 5.0]\n",
    "print(softmax(n))\n",
    "print(np_softmax(n))\n",
    "print(tf.nn.softmax(n))\n",
    "print(np.sum(softmax(n)))"
   ]
  },
  {
   "cell_type": "markdown",
   "metadata": {},
   "source": [
    "# Sigmoid"
   ]
  },
  {
   "cell_type": "markdown",
   "metadata": {},
   "source": [
    "![](https://wikimedia.org/api/rest_v1/media/math/render/svg/a26a3fa3cbb41a3abfe4c7ff88d47f0181489d13)"
   ]
  },
  {
   "cell_type": "code",
   "execution_count": 13,
   "metadata": {},
   "outputs": [],
   "source": [
    "import math\n",
    "def sigmoid(z):\n",
    "    return [1 / (1 + math.exp(-n)) for n in z]\n",
    "def np_sigmoid(z):\n",
    "    return [1/(1 + np.exp(-n)) for n in z]"
   ]
  },
  {
   "cell_type": "code",
   "execution_count": 14,
   "metadata": {},
   "outputs": [
    {
     "name": "stdout",
     "output_type": "stream",
     "text": [
      "[0.7310585786300049, 0.8807970779778823, 0.8807970779778823, 0.9933071490757153]\n",
      "[0.7310585786300049, 0.8807970779778823, 0.8807970779778823, 0.9933071490757153]\n",
      "tf.Tensor([0.7310586 0.880797  0.880797  0.9933072], shape=(4,), dtype=float32)\n"
     ]
    }
   ],
   "source": [
    "import tensorflow as tf\n",
    "n = [1.0, 2.0, 2.0, 5.0]\n",
    "print(sigmoid(n))\n",
    "print(np_sigmoid(n))\n",
    "print(tf.nn.sigmoid(n))"
   ]
  },
  {
   "cell_type": "markdown",
   "metadata": {},
   "source": [
    "# relu"
   ]
  },
  {
   "cell_type": "markdown",
   "metadata": {},
   "source": [
    "![](https://miro.medium.com/max/1400/1*ugxPV_0OL-LBN95LHZofUQ.jpeg)"
   ]
  },
  {
   "cell_type": "code",
   "execution_count": 29,
   "metadata": {},
   "outputs": [],
   "source": [
    "def relu(z):\n",
    "    return [i if i>0 else 0 for i in z  ]\n",
    "\n",
    "def np_relu(z):\n",
    "    return np.maximum(0,z)\n",
    "\n",
    "def tn_relu(z):\n",
    "    import tensorflow as tf\n",
    "    return tf.maximum(z, 0)"
   ]
  },
  {
   "cell_type": "code",
   "execution_count": 31,
   "metadata": {},
   "outputs": [
    {
     "name": "stdout",
     "output_type": "stream",
     "text": [
      "[1.0, 2.0, 2.0, 5.0, 0]\n",
      "[1. 2. 2. 5. 0.]\n",
      "tf.Tensor([1. 2. 2. 5. 0.], shape=(5,), dtype=float32)\n"
     ]
    }
   ],
   "source": [
    "import tensorflow as tf\n",
    "n = [1.0, 2.0, 2.0, 5.0, -1.2]\n",
    "print(relu(n))\n",
    "print(np_relu(n))\n",
    "print(tf.nn.relu(n))"
   ]
  },
  {
   "cell_type": "markdown",
   "metadata": {},
   "source": [
    "# Leaky Relu\n",
    "\n",
    "![](https://wikimedia.org/api/rest_v1/media/math/render/svg/7ef462b36056ff49700914fc305a39cd0d8c1ef1)"
   ]
  },
  {
   "cell_type": "code",
   "execution_count": 73,
   "metadata": {},
   "outputs": [],
   "source": [
    "def leaky_relu(z):\n",
    "    return [i if i>0 else 0.2*i for i in z  ]\n",
    "def np_leakyRelu(z):\n",
    "    out = np.array(z)\n",
    "    out[out < 0] *= 0.2\n",
    "    return out"
   ]
  },
  {
   "cell_type": "code",
   "execution_count": 74,
   "metadata": {},
   "outputs": [
    {
     "name": "stdout",
     "output_type": "stream",
     "text": [
      "[1.0, 2.0, 2.0, 5.0, -0.6000000000000001, -1.0, -2.4800000000000004]\n",
      "[ 1.    2.    2.    5.   -0.6  -1.   -2.48]\n",
      "tf.Tensor([ 1.    2.    2.    5.   -0.6  -1.   -2.48], shape=(7,), dtype=float32)\n"
     ]
    }
   ],
   "source": [
    "import tensorflow as tf\n",
    "n = [1.0, 2.0, 2.0, 5.0, -3.0, -5.0, -12.4]\n",
    "print(leaky_relu(n))\n",
    "print(np_leakyRelu(n))\n",
    "print(tf.nn.leaky_relu(n))"
   ]
  },
  {
   "cell_type": "markdown",
   "metadata": {},
   "source": [
    "# Ref\n",
    "https://www.depends-on-the-definition.com/guide-to-multi-label-classification-with-neural-networks/"
   ]
  },
  {
   "cell_type": "code",
   "execution_count": null,
   "metadata": {},
   "outputs": [],
   "source": []
  },
  {
   "cell_type": "code",
   "execution_count": null,
   "metadata": {},
   "outputs": [],
   "source": []
  }
 ],
 "metadata": {
  "kernelspec": {
   "display_name": "Python 3",
   "language": "python",
   "name": "python3"
  },
  "language_info": {
   "codemirror_mode": {
    "name": "ipython",
    "version": 3
   },
   "file_extension": ".py",
   "mimetype": "text/x-python",
   "name": "python",
   "nbconvert_exporter": "python",
   "pygments_lexer": "ipython3",
   "version": "3.7.6"
  }
 },
 "nbformat": 4,
 "nbformat_minor": 4
}

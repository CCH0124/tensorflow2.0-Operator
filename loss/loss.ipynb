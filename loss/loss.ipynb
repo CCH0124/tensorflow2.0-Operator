{
 "cells": [
  {
   "cell_type": "markdown",
   "metadata": {},
   "source": [
    "## MSE\n",
    "- learning_rate 更新步長\n",
    "- n 是 batch\n",
    "\n",
    "$loos = \\frac{1}{n} \\sum(y-out)^2$\n",
    "\n",
    "$L_{2-norm} = \\sqrt{\\sum(y-out)^2}$"
   ]
  },
  {
   "cell_type": "code",
   "execution_count": 1,
   "metadata": {},
   "outputs": [],
   "source": [
    "import tensorflow as tf"
   ]
  },
  {
   "cell_type": "code",
   "execution_count": 2,
   "metadata": {},
   "outputs": [],
   "source": [
    "y = tf.constant([1,2,3,0,2])\n",
    "y = tf.one_hot(y, depth=4)\n",
    "y = tf.cast(y, dtype=tf.float32)"
   ]
  },
  {
   "cell_type": "code",
   "execution_count": 3,
   "metadata": {},
   "outputs": [],
   "source": [
    "out = tf.random.normal([5,4])"
   ]
  },
  {
   "cell_type": "code",
   "execution_count": 4,
   "metadata": {},
   "outputs": [],
   "source": [
    "loss1 = tf.reduce_mean(tf.square(y-out))"
   ]
  },
  {
   "cell_type": "code",
   "execution_count": 5,
   "metadata": {},
   "outputs": [],
   "source": [
    "loss2 = tf.square(tf.norm(y-out))/(5*4)"
   ]
  },
  {
   "cell_type": "code",
   "execution_count": 6,
   "metadata": {},
   "outputs": [],
   "source": [
    "loss3 = tf.reduce_mean(tf.losses.MSE(y, out))"
   ]
  },
  {
   "cell_type": "code",
   "execution_count": 7,
   "metadata": {},
   "outputs": [
    {
     "name": "stdout",
     "output_type": "stream",
     "text": [
      "tf.Tensor(1.3709277, shape=(), dtype=float32) tf.Tensor(1.3709276, shape=(), dtype=float32) tf.Tensor(1.3709278, shape=(), dtype=float32)\n"
     ]
    }
   ],
   "source": [
    "print(loss1, loss2, loss3)"
   ]
  },
  {
   "cell_type": "markdown",
   "metadata": {},
   "source": [
    "## Entropy\n",
    "他是衡量一個*不確定度*或驚喜度，當越低表示訊息越多，越不穩定。\n",
    "$Entropy = - \\sum P(i)logP(i)$\n",
    "\n",
    "$H(p,q) = - \\sum p(x)logq(x) = H(p) + D_{KL}(p|q)$\n",
    "- p 真實分布\n",
    "- q 預測"
   ]
  },
  {
   "cell_type": "code",
   "execution_count": 8,
   "metadata": {},
   "outputs": [
    {
     "data": {
      "text/plain": [
       "<tf.Tensor: id=36, shape=(4,), dtype=float32, numpy=array([-0.5301006, -0.5301006, -0.5301006, -0.5301006], dtype=float32)>"
      ]
     },
     "execution_count": 8,
     "metadata": {},
     "output_type": "execute_result"
    }
   ],
   "source": [
    "a = tf.fill([4], 0.35)\n",
    "a * tf.math.log(a)/tf.math.log(2.)"
   ]
  },
  {
   "cell_type": "code",
   "execution_count": 9,
   "metadata": {},
   "outputs": [
    {
     "data": {
      "text/plain": [
       "<tf.Tensor: id=44, shape=(), dtype=float32, numpy=2.1204023>"
      ]
     },
     "execution_count": 9,
     "metadata": {},
     "output_type": "execute_result"
    }
   ],
   "source": [
    "-tf.reduce_sum(a * tf.math.log(a)/tf.math.log(2.)) # 各中獎機率是平等，表示訊息量少，商越大"
   ]
  },
  {
   "cell_type": "code",
   "execution_count": 10,
   "metadata": {},
   "outputs": [
    {
     "data": {
      "text/plain": [
       "<tf.Tensor: id=53, shape=(), dtype=float32, numpy=0.6258261>"
      ]
     },
     "execution_count": 10,
     "metadata": {},
     "output_type": "execute_result"
    }
   ],
   "source": [
    "a = tf.constant([0.01, 0.2, 0.01, 0.98])\n",
    "-tf.reduce_sum(a * tf.math.log(a)/tf.math.log(2.)) # 其中一個中獎機率是高的，表示訊息量多，商越小"
   ]
  },
  {
   "cell_type": "code",
   "execution_count": 12,
   "metadata": {},
   "outputs": [
    {
     "data": {
      "text/plain": [
       "<tf.Tensor: id=70, shape=(), dtype=float32, numpy=1.3862944>"
      ]
     },
     "execution_count": 12,
     "metadata": {},
     "output_type": "execute_result"
    }
   ],
   "source": [
    "tf.losses.categorical_crossentropy([0,1,0,0],[0.25, 0.25, 0.25, 0.25])"
   ]
  },
  {
   "cell_type": "markdown",
   "metadata": {},
   "source": [
    "tf.losses.categorical_crossentropy([0,1,0,0],[0.1, 0.2, 0.9, 0.5])"
   ]
  },
  {
   "cell_type": "code",
   "execution_count": 16,
   "metadata": {},
   "outputs": [
    {
     "data": {
      "text/plain": [
       "<tf.Tensor: id=138, shape=(), dtype=float32, numpy=0.02985293>"
      ]
     },
     "execution_count": 16,
     "metadata": {},
     "output_type": "execute_result"
    }
   ],
   "source": [
    "tf.losses.categorical_crossentropy([0,1,0,0],[0.01, 0.99, 0.01, 0.01])"
   ]
  },
  {
   "cell_type": "markdown",
   "metadata": {},
   "source": [
    "## Cross Entropy loss\n",
    "- binary\n",
    "- multi\\-class\n",
    "- \\+softmax\n"
   ]
  },
  {
   "cell_type": "markdown",
   "metadata": {},
   "source": [
    "#### MSE"
   ]
  },
  {
   "cell_type": "code",
   "execution_count": 18,
   "metadata": {},
   "outputs": [],
   "source": [
    "x = tf.random.normal([2,4])\n",
    "w = tf.random.normal([4,3])\n",
    "b = tf.zeros([3])\n",
    "y = tf.constant([2,0])"
   ]
  },
  {
   "cell_type": "code",
   "execution_count": 20,
   "metadata": {},
   "outputs": [],
   "source": [
    "with tf.GradientTape() as tape:\n",
    "    tape.watch([w,b]) # 如果 w 和 b 有使用 variable 包住，則不用 watch\n",
    "    prob = tf.nn.softmax(x@w+b, axis=1)\n",
    "    loss = tf.reduce_mean(tf.losses.MSE(tf.one_hot(y, depth=3), prob))\n",
    "grads = tape.gradient(loss, [w, b])"
   ]
  },
  {
   "cell_type": "code",
   "execution_count": 21,
   "metadata": {},
   "outputs": [
    {
     "data": {
      "text/plain": [
       "<tf.Tensor: id=202, shape=(4, 3), dtype=float32, numpy=\n",
       "array([[ 7.3738270e-03, -7.8342352e-03,  4.6041107e-04],\n",
       "       [ 9.6618682e-03, -9.7540161e-03,  9.2150920e-05],\n",
       "       [ 5.4713968e-02, -5.5656407e-02,  9.4246038e-04],\n",
       "       [-8.7275863e-02,  8.9574240e-02, -2.2984096e-03]], dtype=float32)>"
      ]
     },
     "execution_count": 21,
     "metadata": {},
     "output_type": "execute_result"
    }
   ],
   "source": [
    "grads[0]"
   ]
  },
  {
   "cell_type": "code",
   "execution_count": 22,
   "metadata": {},
   "outputs": [
    {
     "data": {
      "text/plain": [
       "<tf.Tensor: id=201, shape=(3,), dtype=float32, numpy=array([-0.04697574,  0.04825434, -0.00127862], dtype=float32)>"
      ]
     },
     "execution_count": 22,
     "metadata": {},
     "output_type": "execute_result"
    }
   ],
   "source": [
    "grads[1] # bias"
   ]
  },
  {
   "cell_type": "code",
   "execution_count": null,
   "metadata": {},
   "outputs": [],
   "source": []
  }
 ],
 "metadata": {
  "kernelspec": {
   "display_name": "Python 3",
   "language": "python",
   "name": "python3"
  },
  "language_info": {
   "codemirror_mode": {
    "name": "ipython",
    "version": 3
   },
   "file_extension": ".py",
   "mimetype": "text/x-python",
   "name": "python",
   "nbconvert_exporter": "python",
   "pygments_lexer": "ipython3",
   "version": "3.7.6"
  }
 },
 "nbformat": 4,
 "nbformat_minor": 4
}

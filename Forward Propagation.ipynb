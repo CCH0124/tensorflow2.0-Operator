{
 "cells": [
  {
   "cell_type": "code",
   "execution_count": 1,
   "metadata": {},
   "outputs": [],
   "source": [
    "import tensorflow as tf\n",
    "from tensorflow import keras\n",
    "from tensorflow.keras import datasets"
   ]
  },
  {
   "cell_type": "code",
   "execution_count": 3,
   "metadata": {},
   "outputs": [
    {
     "name": "stdout",
     "output_type": "stream",
     "text": [
      "(60000, 28, 28) (60000,) <dtype: 'float32'> <dtype: 'int32'>\n"
     ]
    }
   ],
   "source": [
    "(x, y), _ = datasets.mnist.load_data()\n",
    "x = tf.convert_to_tensor(x, dtype=tf.float32)\n",
    "y = tf.convert_to_tensor(y, dtype=tf.int32)\n",
    "print(x.shape, y.shape, x.dtype, y.dtype)"
   ]
  },
  {
   "cell_type": "code",
   "execution_count": 4,
   "metadata": {},
   "outputs": [],
   "source": [
    "train_db = tf.data.Dataset.from_tensor_slices((x,y)).batch(128)"
   ]
  },
  {
   "cell_type": "code",
   "execution_count": 5,
   "metadata": {},
   "outputs": [],
   "source": [
    "train_iter = iter(train_db)\n",
    "sample = next(train_iter)"
   ]
  },
  {
   "cell_type": "code",
   "execution_count": 6,
   "metadata": {},
   "outputs": [
    {
     "name": "stdout",
     "output_type": "stream",
     "text": [
      "batch: (128, 28, 28) (128,)\n"
     ]
    }
   ],
   "source": [
    "print('batch:', sample[0].shape, sample[1].shape)"
   ]
  },
  {
   "cell_type": "code",
   "execution_count": 7,
   "metadata": {},
   "outputs": [],
   "source": [
    "# [b, 784] => [b, 256] => [b, 128] => [b, 10]\n",
    "# [di_i, di_o], [di_o]"
   ]
  },
  {
   "cell_type": "code",
   "execution_count": 17,
   "metadata": {},
   "outputs": [],
   "source": [
    "# Variable 自動隨梯度更新\n",
    "w1 = tf.Variable(tf.random.truncated_normal([784, 256], stddev=0.01))\n",
    "b1 = tf.Variable(tf.zeros([256]))\n",
    "w2 = tf.Variable(tf.random.truncated_normal([256, 128], stddev=0.01))\n",
    "b2 = tf.Variable(tf.zeros([128]))\n",
    "w3 = tf.Variable(tf.random.truncated_normal([128, 10], stddev=0.01))\n",
    "b3 = tf.Variable(tf.zeros([10]))"
   ]
  },
  {
   "cell_type": "code",
   "execution_count": 16,
   "metadata": {},
   "outputs": [
    {
     "name": "stdout",
     "output_type": "stream",
     "text": [
      "0 loss: 0.1672275960445404\n",
      "100 loss: 0.06931205838918686\n",
      "200 loss: 0.0552520677447319\n",
      "300 loss: 0.05026322603225708\n",
      "400 loss: 0.05261535570025444\n"
     ]
    }
   ],
   "source": [
    "lr = 1e-3\n",
    "for step, (x, y) in enumerate(train_db):\n",
    "    # x [128,128,128]\n",
    "    # y [128]\n",
    "    # x [b, 28*28]\n",
    "    x = tf.reshape(x, [-1, 28*28])\n",
    "    with tf.GradientTape() as tape:\n",
    "        # h1 = x@w1 + b1\n",
    "        h1 = x@w1 + tf.broadcast_to(b1, [x.shape[0], 256])\n",
    "        h2 = h1@w2 + b2\n",
    "        out = h2@w3 + b3\n",
    "        # loss\n",
    "        #out: [b, 10]\n",
    "        y_onehot = tf.one_hot(y, depth=10)\n",
    "\n",
    "        # mse = mean(sum(y-out)^2)\n",
    "        loss = tf.square(y_onehot - out)\n",
    "        #mean\n",
    "        loss = tf.reduce_mean(loss)\n",
    "    grads = tape.gradient(loss,[w1, b1, w2, b2, w3, b3])\n",
    "    # w1 = w1 - lr * w1* w1_grad\n",
    "    w1.assign_sub(lr*grads[0]) # 園地更新，同對象\n",
    "#     w1 = w1 - lr*grads[0] # 賦給新對象\n",
    "    b1.assign_sub(lr*grads[1])\n",
    "    w2.assign_sub(lr*grads[2])\n",
    "    b2.assign_sub(lr*grads[3])\n",
    "    w3.assign_sub(lr*grads[4])\n",
    "    b3.assign_sub(lr*grads[5])\n",
    "    \n",
    "    if step%100 == 0:\n",
    "        print(step, 'loss:', float(loss))\n",
    "        "
   ]
  },
  {
   "cell_type": "code",
   "execution_count": 18,
   "metadata": {},
   "outputs": [
    {
     "name": "stdout",
     "output_type": "stream",
     "text": [
      "0 0 loss: 0.15991362929344177\n",
      "0 100 loss: 0.06630662083625793\n",
      "0 200 loss: 0.05309118703007698\n",
      "0 300 loss: 0.04925220459699631\n",
      "0 400 loss: 0.05069420859217644\n",
      "1 0 loss: 0.0455445721745491\n",
      "1 100 loss: 0.049549125134944916\n",
      "1 200 loss: 0.044769685715436935\n",
      "1 300 loss: 0.04442111775279045\n",
      "1 400 loss: 0.047204989939928055\n",
      "2 0 loss: 0.04212489724159241\n",
      "2 100 loss: 0.046403925865888596\n",
      "2 200 loss: 0.042999159544706345\n",
      "2 300 loss: 0.043066926300525665\n",
      "2 400 loss: 0.0458727590739727\n",
      "3 0 loss: 0.040701307356357574\n",
      "3 100 loss: 0.044885262846946716\n",
      "3 200 loss: 0.042186539620161057\n",
      "3 300 loss: 0.04235023260116577\n",
      "3 400 loss: 0.045080192387104034\n",
      "4 0 loss: 0.03985799476504326\n",
      "4 100 loss: 0.04398693889379501\n",
      "4 200 loss: 0.04170404002070427\n",
      "4 300 loss: 0.04187215119600296\n",
      "4 400 loss: 0.044541094452142715\n",
      "5 0 loss: 0.0392804779112339\n",
      "5 100 loss: 0.04338859021663666\n",
      "5 200 loss: 0.041374437510967255\n",
      "5 300 loss: 0.04151427000761032\n",
      "5 400 loss: 0.04415082186460495\n",
      "6 0 loss: 0.03885024040937424\n",
      "6 100 loss: 0.042955055832862854\n",
      "6 200 loss: 0.04112834483385086\n",
      "6 300 loss: 0.041228264570236206\n",
      "6 400 loss: 0.0438571460545063\n",
      "7 0 loss: 0.03851110488176346\n",
      "7 100 loss: 0.04262145236134529\n",
      "7 200 loss: 0.04093306139111519\n",
      "7 300 loss: 0.04099027067422867\n",
      "7 400 loss: 0.043629612773656845\n",
      "8 0 loss: 0.03823276236653328\n",
      "8 100 loss: 0.04235360026359558\n",
      "8 200 loss: 0.040771178901195526\n",
      "8 300 loss: 0.04078683629631996\n",
      "8 400 loss: 0.043448932468891144\n",
      "9 0 loss: 0.037997353821992874\n",
      "9 100 loss: 0.04213188588619232\n",
      "9 200 loss: 0.04063260927796364\n",
      "9 300 loss: 0.040609586983919144\n",
      "9 400 loss: 0.04330233111977577\n"
     ]
    }
   ],
   "source": [
    "lr = 1e-3\n",
    "for epoch in range(10):\n",
    "    for step, (x, y) in enumerate(train_db):\n",
    "        # x [128,128,128]\n",
    "        # y [128]\n",
    "        # x [b, 28*28]\n",
    "        x = tf.reshape(x, [-1, 28*28])\n",
    "        with tf.GradientTape() as tape:\n",
    "            # h1 = x@w1 + b1\n",
    "            h1 = x@w1 + tf.broadcast_to(b1, [x.shape[0], 256])\n",
    "            h2 = h1@w2 + b2\n",
    "            out = h2@w3 + b3\n",
    "            # loss\n",
    "            #out: [b, 10]\n",
    "            y_onehot = tf.one_hot(y, depth=10)\n",
    "\n",
    "            # mse = mean(sum(y-out)^2)\n",
    "            loss = tf.square(y_onehot - out)\n",
    "            #mean\n",
    "            loss = tf.reduce_mean(loss)\n",
    "        grads = tape.gradient(loss,[w1, b1, w2, b2, w3, b3])\n",
    "        # w1 = w1 - lr * w1* w1_grad\n",
    "        w1.assign_sub(lr*grads[0]) # 園地更新，同對象\n",
    "    #     w1 = w1 - lr*grads[0] # 賦給新對象\n",
    "        b1.assign_sub(lr*grads[1])\n",
    "        w2.assign_sub(lr*grads[2])\n",
    "        b2.assign_sub(lr*grads[3])\n",
    "        w3.assign_sub(lr*grads[4])\n",
    "        b3.assign_sub(lr*grads[5])\n",
    "\n",
    "        if step%100 == 0:\n",
    "            print(epoch, step, 'loss:', float(loss))\n"
   ]
  },
  {
   "cell_type": "code",
   "execution_count": null,
   "metadata": {},
   "outputs": [],
   "source": []
  }
 ],
 "metadata": {
  "kernelspec": {
   "display_name": "Python 3",
   "language": "python",
   "name": "python3"
  },
  "language_info": {
   "codemirror_mode": {
    "name": "ipython",
    "version": 3
   },
   "file_extension": ".py",
   "mimetype": "text/x-python",
   "name": "python",
   "nbconvert_exporter": "python",
   "pygments_lexer": "ipython3",
   "version": "3.7.6"
  }
 },
 "nbformat": 4,
 "nbformat_minor": 4
}

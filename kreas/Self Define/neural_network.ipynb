{
 "cells": [
  {
   "cell_type": "code",
   "execution_count": 70,
   "metadata": {},
   "outputs": [],
   "source": [
    "import tensorflow as tf\n",
    "from tensorflow.keras import layers, Model, optimizers, datasets"
   ]
  },
  {
   "cell_type": "code",
   "execution_count": 71,
   "metadata": {},
   "outputs": [],
   "source": [
    "def preprocess(x, y):\n",
    "    x = tf.cast(x, dtype=tf.float32)/255.\n",
    "    y = tf.cast(y, dtype=tf.int32)\n",
    "    return x, y"
   ]
  },
  {
   "cell_type": "code",
   "execution_count": 72,
   "metadata": {},
   "outputs": [],
   "source": [
    "batch_size = 128\n",
    "(x, y), (x_val, y_val) = datasets.cifar10.load_data()\n",
    "y = tf.squeeze(y)\n",
    "y_val = tf.squeeze(y_val)\n",
    "y = tf.one_hot(y, depth=10)\n",
    "y_val = tf.one_hot(y_val, depth=10)"
   ]
  },
  {
   "cell_type": "code",
   "execution_count": 73,
   "metadata": {},
   "outputs": [],
   "source": [
    "train_db = tf.data.Dataset.from_tensor_slices((x, y))\n",
    "train_db = train_db.map(preprocess).shuffle(10000).batch(batch_size)\n",
    "test_db = tf.data.Dataset.from_tensor_slices((x_val, y_val))\n",
    "test_db = test_db.map(preprocess).batch(batch_size)"
   ]
  },
  {
   "cell_type": "code",
   "execution_count": 74,
   "metadata": {},
   "outputs": [],
   "source": [
    "sample = next(iter(train_db))\n"
   ]
  },
  {
   "cell_type": "code",
   "execution_count": 75,
   "metadata": {},
   "outputs": [
    {
     "data": {
      "text/plain": [
       "TensorShape([128, 32, 32, 3])"
      ]
     },
     "execution_count": 75,
     "metadata": {},
     "output_type": "execute_result"
    }
   ],
   "source": [
    "sample[0].shape"
   ]
  },
  {
   "cell_type": "code",
   "execution_count": 87,
   "metadata": {},
   "outputs": [],
   "source": [
    "class MyDense(layers.Layer):\n",
    "    def __init__(self, inp_dim, out_dim):\n",
    "        super(MyDense, self).__init__()\n",
    "        self.kernel = self.add_weight('w', [inp_dim, out_dim])\n",
    "        self.bias = self.add_weight('b', [out_dim])\n",
    "    def call(self, inputs, training=None):\n",
    "        out = inputs@self.kernel + self.bias\n",
    "        return out"
   ]
  },
  {
   "cell_type": "code",
   "execution_count": 88,
   "metadata": {},
   "outputs": [],
   "source": [
    "class MyModel(Model): # keras.Model 繼承\n",
    "    def __init__(self):\n",
    "        super(MyModel, self).__init__()\n",
    "        self.fc1 = MyDense(32*32*3, 256)\n",
    "        self.fc2 = MyDense(256, 128)\n",
    "        self.fc3 = MyDense(128, 64)\n",
    "        self.fc4 = MyDense(64, 32)\n",
    "        self.fc5 = MyDense(32, 10)\n",
    "    def call(self, inputs, training=None):\n",
    "        x = tf.reshape(inputs, [-1, 32*32*3])\n",
    "        x = self.fc1(x)\n",
    "        x = tf.nn.relu(x)\n",
    "        x = self.fc2(x)\n",
    "        x = tf.nn.relu(x)\n",
    "        x = self.fc3(x)\n",
    "        x = tf.nn.relu(x)\n",
    "        x = self.fc4(x)\n",
    "        x = tf.nn.relu(x)\n",
    "        x = self.fc5(x)\n",
    "        return x\n",
    "    "
   ]
  },
  {
   "cell_type": "code",
   "execution_count": 89,
   "metadata": {},
   "outputs": [],
   "source": [
    "network = MyModel()"
   ]
  },
  {
   "cell_type": "code",
   "execution_count": 90,
   "metadata": {},
   "outputs": [],
   "source": [
    "network.compile(optimizer=optimizers.Adam(lr=1e-3), loss=tf.losses.CategoricalCrossentropy(from_logits=True), metrics=['acc'])"
   ]
  },
  {
   "cell_type": "code",
   "execution_count": 91,
   "metadata": {},
   "outputs": [
    {
     "name": "stdout",
     "output_type": "stream",
     "text": [
      "Train for 391 steps, validate for 79 steps\n",
      "Epoch 1/10\n",
      "391/391 [==============================] - 16s 40ms/step - loss: 1.9327 - acc: 0.2924 - val_loss: 1.7516 - val_acc: 0.3722\n",
      "Epoch 2/10\n",
      "391/391 [==============================] - 9s 22ms/step - loss: 1.7190 - acc: 0.3814 - val_loss: 1.6590 - val_acc: 0.4080\n",
      "Epoch 3/10\n",
      "391/391 [==============================] - 9s 22ms/step - loss: 1.6310 - acc: 0.4134 - val_loss: 1.5869 - val_acc: 0.4329\n",
      "Epoch 4/10\n",
      "391/391 [==============================] - 11s 29ms/step - loss: 1.5704 - acc: 0.4382 - val_loss: 1.5761 - val_acc: 0.4362\n",
      "Epoch 5/10\n",
      "391/391 [==============================] - 11s 29ms/step - loss: 1.5267 - acc: 0.4501 - val_loss: 1.5026 - val_acc: 0.4622\n",
      "Epoch 6/10\n",
      "391/391 [==============================] - 13s 33ms/step - loss: 1.4836 - acc: 0.4699 - val_loss: 1.5153 - val_acc: 0.4605\n",
      "Epoch 7/10\n",
      "391/391 [==============================] - 14s 35ms/step - loss: 1.4629 - acc: 0.4776 - val_loss: 1.4895 - val_acc: 0.4688\n",
      "Epoch 8/10\n",
      "391/391 [==============================] - 15s 38ms/step - loss: 1.4368 - acc: 0.4868 - val_loss: 1.4943 - val_acc: 0.4697\n",
      "Epoch 9/10\n",
      "391/391 [==============================] - 13s 33ms/step - loss: 1.4146 - acc: 0.4973 - val_loss: 1.4577 - val_acc: 0.4744\n",
      "Epoch 10/10\n",
      "391/391 [==============================] - 13s 33ms/step - loss: 1.3935 - acc: 0.5030 - val_loss: 1.4397 - val_acc: 0.4906\n"
     ]
    },
    {
     "data": {
      "text/plain": [
       "<tensorflow.python.keras.callbacks.History at 0x2316ada94c8>"
      ]
     },
     "execution_count": 91,
     "metadata": {},
     "output_type": "execute_result"
    }
   ],
   "source": [
    "network.fit(train_db, epochs=10, validation_data=test_db, validation_freq=1)"
   ]
  },
  {
   "cell_type": "code",
   "execution_count": 92,
   "metadata": {},
   "outputs": [
    {
     "name": "stdout",
     "output_type": "stream",
     "text": [
      "Model: \"my_model_11\"\n",
      "_________________________________________________________________\n",
      "Layer (type)                 Output Shape              Param #   \n",
      "=================================================================\n",
      "my_dense_55 (MyDense)        multiple                  786688    \n",
      "_________________________________________________________________\n",
      "my_dense_56 (MyDense)        multiple                  32896     \n",
      "_________________________________________________________________\n",
      "my_dense_57 (MyDense)        multiple                  8256      \n",
      "_________________________________________________________________\n",
      "my_dense_58 (MyDense)        multiple                  2080      \n",
      "_________________________________________________________________\n",
      "my_dense_59 (MyDense)        multiple                  330       \n",
      "=================================================================\n",
      "Total params: 830,250\n",
      "Trainable params: 830,250\n",
      "Non-trainable params: 0\n",
      "_________________________________________________________________\n"
     ]
    }
   ],
   "source": [
    "network.summary()"
   ]
  },
  {
   "cell_type": "code",
   "execution_count": null,
   "metadata": {},
   "outputs": [],
   "source": []
  }
 ],
 "metadata": {
  "kernelspec": {
   "display_name": "Python 3",
   "language": "python",
   "name": "python3"
  },
  "language_info": {
   "codemirror_mode": {
    "name": "ipython",
    "version": 3
   },
   "file_extension": ".py",
   "mimetype": "text/x-python",
   "name": "python",
   "nbconvert_exporter": "python",
   "pygments_lexer": "ipython3",
   "version": "3.7.6"
  }
 },
 "nbformat": 4,
 "nbformat_minor": 4
}
